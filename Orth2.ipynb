{
  "nbformat": 4,
  "nbformat_minor": 0,
  "metadata": {
    "celltoolbar": "Create Assignment",
    "kernelspec": {
      "display_name": "Python 3",
      "language": "python",
      "name": "python3"
    },
    "language_info": {
      "codemirror_mode": {
        "name": "ipython",
        "version": 3
      },
      "file_extension": ".py",
      "mimetype": "text/x-python",
      "name": "python",
      "nbconvert_exporter": "python",
      "pygments_lexer": "ipython3",
      "version": "3.7.6"
    },
    "toc": {
      "base_numbering": 1,
      "nav_menu": {},
      "number_sections": true,
      "sideBar": true,
      "skip_h1_title": false,
      "title_cell": "Table of Contents",
      "title_sidebar": "Contents",
      "toc_cell": false,
      "toc_position": {},
      "toc_section_display": true,
      "toc_window_display": false
    },
    "colab": {
      "name": "Orth2.ipynb",
      "provenance": [],
      "collapsed_sections": []
    }
  },
  "cells": [
    {
      "cell_type": "markdown",
      "metadata": {
        "id": "ds9n2NeZslx-"
      },
      "source": [
        "# Задание по лекциям 2.\n",
        "\n",
        "- Не нужно использовать эффективные вычислительные алгоритмы. Нужно использовать те алгоритмы, что были представлены на лекции или практических занятиях. \n",
        "- Остальное как обычно: за \"похожие\" решения всем задействованным 0 баллов; если используете решение из открытого источника — обязательно вставьте ссылку; не удаляйте формулировки; не выкладывайте в открытый источник.\n",
        "- Можно использовать `numpy.array` для матриц и матричной арифметики и `numpy.linalg` для подсчёта ранга и определителя, для вычисления обратной матрицы, решения СЛУ и т.п. То есть то, что вы уже реализовывали в прошлом семестре, ещё раз реализовывать необязательно. Более того, можно использовать в любом из *заданий по лекциям* функции, реализованные ранее в других *заданиях по лекциям*. Если возникнут сомнения, можно ли использовать ту или иную функцию — лучше сразу поинтересуйтесь у меня."
      ]
    },
    {
      "cell_type": "markdown",
      "metadata": {
        "id": "zVGVcPQ6slyH"
      },
      "source": [
        "$\\mathbb{R}^n$ — вещественнозначное пространство вектор-**столбцов** со стандартным скалярным произведением."
      ]
    },
    {
      "cell_type": "markdown",
      "metadata": {
        "id": "33uZ2YSoslyI"
      },
      "source": [
        "**(1 балл) Задание 5.** Реализовать функцию, принимающую на вход набор координат $u = (u_1,\\ldots,u_k),\\ k\\le n$ вектор-столбцов, и выдающую базис $$v = (v_1,\\ldots,v_m),\\ m \\ge n-k,$$\n",
        "ортогонального дополнения  для линейной оболочки данных векторов."
      ]
    },
    {
      "cell_type": "code",
      "metadata": {
        "id": "sd7vaade0nFb"
      },
      "source": [
        "import numpy as np\n",
        "import scipy.linalg as sla\n",
        "from numpy import linalg as la\n",
        "import math\n",
        "from math import fabs"
      ],
      "execution_count": 2,
      "outputs": []
    },
    {
      "cell_type": "code",
      "metadata": {
        "colab": {
          "base_uri": "https://localhost:8080/"
        },
        "id": "jH15PTefslyJ",
        "outputId": "2b5bdd58-86bc-4daf-a456-d0ad63af8ec4"
      },
      "source": [
        "def orth_space(U):\n",
        "  rank_U=la.matrix_rank(U)\n",
        "  new_U=U[::,:rank_U:]\n",
        "  b=np.zeros((len(new_U),1))\n",
        "  Q,R =la.qr(new_U.T)\n",
        "  for i in range (len(new_U.T)-1,len(new_U)):\n",
        "    x_num=sla.solve(R[:,:len(new_U.T):],-1*R[:,i])\n",
        "    x_num=np.insert(x_num,[len(x_num)],[1],axis=0)\n",
        "    x=np.zeros((len(new_U)-len(new_U.T),len(new_U)))\n",
        "    x[i-len(new_U.T)]=x_num  \n",
        "  return x\n",
        "\n",
        "\n",
        "U = np.array([[1,1,2],[2,1,3],[0,1,1]]).reshape((3,3))\n",
        "# я просто в шоке эта фигня работает....\n",
        "# в основе принципа лежит то, что до означивания фср, вектор из параметров можно представить в виде суммы\n",
        "# векторов по каждой переменной, и еще вынести переменные как множители. Вот и фср\n",
        "# Когда мы означиваем переменные, то рассматриваем случаи, что одна переменная равна 1, а остальные 0, в нашей реализации это все равно что\n",
        "# все, кроме одного множителя равны 0, и существует только 1 вектор из той суммы, а это все равно что выразить решение только по столбцу 1 переменной\n",
        "\n",
        "orth_space(U)"
      ],
      "execution_count": 13,
      "outputs": [
        {
          "output_type": "execute_result",
          "data": {
            "text/plain": [
              "array([[-2.,  1.,  1.]])"
            ]
          },
          "metadata": {
            "tags": []
          },
          "execution_count": 13
        }
      ]
    },
    {
      "cell_type": "markdown",
      "metadata": {
        "id": "yP6eBOFCslyK"
      },
      "source": [
        "**(1 балл) Задание 6.** Реализовать функцию, принимающую на вход набор координат $u = (u_1,\\ldots,u_k),\\ k\\le n$ вектор-столбцов, и выдающую ортонормированный базис $$v = (v_1,\\ldots,v_m),\\ m \\ge n-k,$$\n",
        "для линейной оболочки данных векторов."
      ]
    },
    {
      "cell_type": "code",
      "metadata": {
        "colab": {
          "base_uri": "https://localhost:8080/"
        },
        "id": "dCqssWzNslyL",
        "outputId": "be9ed9e5-8f02-4737-c0d8-60547792409e"
      },
      "source": [
        "def orth_base(U):\n",
        "  v= np.ones((len(U),len(U[0])))\n",
        "  U=U.T\n",
        "  v[0]=1/la.norm(U[0],ord =2)*U[0]\n",
        "  for i in range(1,len(U)):\n",
        "    v[i]= U[i]\n",
        "    \n",
        "    for j in range (0,i+1):\n",
        "\n",
        "      v[i]-= (U[i].T@v[j]/la.norm(v[j],ord = 2 ))*v[j]\n",
        "\n",
        "    v[i]=(1/la.norm(v[i],ord = 2 ))*v[i]\n",
        "\n",
        "  return v\n",
        "\n",
        "U=np.array([[1,1,1],[1,0,1],[0,1,1]])\n",
        "orth_base(U)\n",
        "  "
      ],
      "execution_count": 12,
      "outputs": [
        {
          "output_type": "execute_result",
          "data": {
            "text/plain": [
              "array([[ 0.70710678,  0.70710678,  0.        ],\n",
              "       [-0.40824829,  0.40824829, -0.81649658],\n",
              "       [-0.57735027,  0.57735027,  0.57735027]])"
            ]
          },
          "metadata": {
            "tags": []
          },
          "execution_count": 12
        }
      ]
    },
    {
      "cell_type": "markdown",
      "metadata": {
        "id": "vFbq0q7VslyL"
      },
      "source": [
        "**(1 балл) Задание 7.** Реализовать функцию, принимающую на вход набор координат $u = (u_1,\\ldots,u_k),\\ k\\le n$ линейно независимых вектор-столбцов, и выдающую ортонормированный базис $$v = (v_1,\\ldots,v_n)$$\n",
        "всего пространства, такой что линейная оболочка векторов $(v_1,\\ldots,v_k)$ совпадает с линейной оболочкой векторов $(u_1,\\ldots,u_k)$."
      ]
    },
    {
      "cell_type": "code",
      "metadata": {
        "id": "jlMgWxwrslyM"
      },
      "source": [
        "def mega_orth_base(U):\n",
        "  u1=orth_base(U)\n",
        "  u2=orth_space(U)\n",
        "  for i in range(0,len(u2)):\n",
        "    u2[i]=1/la.norm(u2[i])*u2[i]\n",
        "  u=np.hstack((u1,u2))\n"
      ],
      "execution_count": 14,
      "outputs": []
    }
  ]
}