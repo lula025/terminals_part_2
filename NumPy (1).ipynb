{
  "nbformat": 4,
  "nbformat_minor": 0,
  "metadata": {
    "kernelspec": {
      "display_name": "Python 3",
      "language": "python",
      "name": "python3"
    },
    "colab": {
      "name": "NumPy.ipynb",
      "provenance": [],
      "collapsed_sections": []
    }
  },
  "cells": [
    {
      "cell_type": "markdown",
      "metadata": {
        "id": "1a2HLq96KDJl"
      },
      "source": [
        "## Знакомство с библиотеками для анализа данных. NumPy\n",
        "\n",
        "Результат лабораторной работы − отчет в формате ноутбука Jupyter (ipynb-файл). Постарайтесь сделать ваш отчет интересным рассказом, последовательно отвечающим на вопросы из заданий. Помимо ответов на вопросы, в отчете так же должен быть код, однако чем меньше кода, тем лучше всем: нам − меньше проверять, вам —  проще найти ошибку или дополнить эксперимент. При проверке оценивается четкость ответов на вопросы, аккуратность отчета и кода.\n",
        "\n",
        "### О задании\n",
        "\n",
        "Лабораторные работы \"NumPy\" и \"Pandas\" направлены на работу с пакетами NumPy, Pandas и Matplotlib путём решения набора задач (да, алгебры и геометрии тут почти нет). В данных заданиях разрешено пользоваться только стандартной библиотекой языка Python, а также пакетами NumPy, Pandas и Matplotlib. Целью заданий является редактирование данного jupyter notebook-a (в части блоков с кодом на python) таким образом, чтобы были реализованы указанные в заданиях функции.\n",
        "\n",
        "\n",
        "### Оценивание и штрафы\n",
        "\n",
        "* Каждая из задач имеет определенную «стоимость» (указана в скобках около задачи)\n",
        "* «Похожие» решения считаются плагиатом и все задействованные студенты (в том числе те, у кого списали) не могут получить за него больше 0 баллов\n",
        "* Если вы нашли решение какого-то из заданий в открытом источнике, необходимо добавить ссылку на этот источник (скорее всего вы будете не единственным, кто это нашел, поэтому чтобы исключить подозрение в плагиате, необходима ссылка на источник)\n",
        "* Не оцениваются задания с удалёнными формулировками\n",
        "* Не оценивается лабораторная работа целиком, если она была выложена в открытый источник\n",
        "\n",
        "###  Правила сдачи\n",
        "\n",
        "Работу необходимо сдавать, загрузив в свой приватный репозиторий и сообщив об этом в телеграм @xrzvs (или просто открыв доступ к ноутбуку в Google Colab; более подробную информацию смотрите в README.md). "
      ]
    },
    {
      "cell_type": "markdown",
      "metadata": {
        "id": "SwLIrvfeKDJp"
      },
      "source": [
        "### Знакомство с Numpy\n",
        "\n",
        "Во всех заданиях данного ноутбука **запрещено** использовать циклы (ключевые слова *for* и *while*), [list comprehension](https://habrahabr.ru/post/30232/), [map и т.п.](http://pythonicway.com/python-functinal-programming)\n",
        "\n",
        "Для каждой задачи приведите примеры использования реализованных функций. Без примеров баллы за задание будут снижены в 2 раза, примеры должны отличаться от тех что приведены в самом задании\n",
        "\n",
        "Под матрицей в заданиях понимается двумерный [numpy.array](https://docs.scipy.org/doc/numpy/reference/generated/numpy.array.html)"
      ]
    },
    {
      "cell_type": "code",
      "metadata": {
        "id": "R1fuSeyHKDJq"
      },
      "source": [
        "import numpy as np"
      ],
      "execution_count": 2,
      "outputs": []
    },
    {
      "cell_type": "markdown",
      "metadata": {
        "id": "t0cXLBRlKDJr"
      },
      "source": [
        "**(0.25 балла) Задание 1.** Реализуйте функцию, принимающую на вход матрицу ```X``` и два массива индексов ```indices1``` и ```indices2``` одинаковой длины и возвращающую np.array, состоящий из последовательности элементов \n",
        "\n",
        "```[X[indices1[0], indices2[0]], ... , X[indices1[N-1], indices2[N-1]]]```"
      ]
    },
    {
      "cell_type": "code",
      "metadata": {
        "colab": {
          "base_uri": "https://localhost:8080/"
        },
        "id": "fkqZ6n_SKDJs",
        "outputId": "1148e6f4-e96b-4e90-ddd8-f329b95d2c4f"
      },
      "source": [
        "def construct_array(X, indices1, indices2):\n",
        "    print(X[indices1,indices2])\n",
        "    return X[indices1,indices2]\n",
        "\n",
        "\n",
        "assert np.allclose (construct_array(np.array([[1,2,3], [4,5,6], [7,8,9], [10, 11, 12]]), [1, 2, 3], [2, 1, 0]), np.array([6,8, 10]))\n",
        "assert np.allclose (construct_array(np.zeros((4,3)), [2, 2, 0], [1, 1, 0]), np.array([0,0,0]))#мой пример"
      ],
      "execution_count": 51,
      "outputs": [
        {
          "output_type": "stream",
          "text": [
            "[ 6  8 10]\n",
            "[0. 0. 0.]\n"
          ],
          "name": "stdout"
        }
      ]
    },
    {
      "cell_type": "markdown",
      "metadata": {
        "id": "uMn-WefFKDJs"
      },
      "source": [
        "**(0.25 балла) Задача 2.** Реализуйте функцию, которая на вход принимает два массива ```X``` и ```Y``` (массивы могут быть n-мерные, но их размерности должны совпадать), а возвращает **True** если они равны и **False** - иначе."
      ]
    },
    {
      "cell_type": "code",
      "metadata": {
        "colab": {
          "base_uri": "https://localhost:8080/"
        },
        "id": "jCXflb3EKDJt",
        "outputId": "c563ec81-f01d-4caf-bca9-45d1f7e579be"
      },
      "source": [
        "def detect_identic(X, Y):\n",
        "  print((X==Y).all())\n",
        "  return(X==Y).all()\n",
        "\n",
        "assert np.allclose (detect_identic(np.array([[1,2,3], [4,5,6], [7,8,9], [10, 11, 12]]), np.array([[1,2,3], [4,5,6], [7,8,9], [10, 11, 11]])), False)\n",
        "assert np.allclose (detect_identic(np.array([[1,2,3], [4,5,6], [7,8,9], [10, 11, 12]]), np.array([[1,2,3], [4,5,6], [7,8,9], [10, 11, 12]])), True)\n",
        "assert np.allclose (detect_identic(np.zeros((3,4)), np.ones((3,4))), False)#мой пример\n",
        "assert np.allclose (detect_identic(np.zeros((3,3)), np.zeros((3,3))), True)# мой пример"
      ],
      "execution_count": 52,
      "outputs": [
        {
          "output_type": "stream",
          "text": [
            "False\n",
            "True\n",
            "False\n",
            "True\n"
          ],
          "name": "stdout"
        }
      ]
    },
    {
      "cell_type": "markdown",
      "metadata": {
        "id": "tQLBZPcCKDJt"
      },
      "source": [
        "**(0.25 балла) Задание 3.** Реализуйте функцию, которая на вход принимает цветное изображение ```X``` (трехмерный вектор размера (n, m, 3)) и возвращает среднее значение по трём каналам (вектор длины 3)."
      ]
    },
    {
      "cell_type": "code",
      "metadata": {
        "colab": {
          "base_uri": "https://localhost:8080/"
        },
        "id": "AadnxnB-KDJu",
        "outputId": "9253fc86-da16-46a7-d3e7-c0b2faa8e534"
      },
      "source": [
        "def mean_channel(X):\n",
        "  X=np.array_split(X, 3, axis=2)\n",
        "  print(np.array([np.mean(X[0]), np.mean(X[1]), np.mean(X[2])]))\n",
        "  return np.array([np.mean(X[0]), np.mean(X[1]), np.mean(X[2])])\n",
        "\n",
        "\n",
        "assert np.allclose (mean_channel(np.arange(27).reshape((3, 3, 3))), np.array([12., 13., 14.]))\n",
        "assert np.allclose (mean_channel(np.arange(1,96,2).reshape((3, 4, 4))), np.array([46., 49., 51.]))#my example"
      ],
      "execution_count": 60,
      "outputs": [
        {
          "output_type": "stream",
          "text": [
            "[12. 13. 14.]\n",
            "[46. 49. 51.]\n"
          ],
          "name": "stdout"
        }
      ]
    },
    {
      "cell_type": "markdown",
      "metadata": {
        "id": "74DERrW-KDJu"
      },
      "source": [
        "**(0.25 балла) Задание 4. ** Реализуйте функцию, принимающую на вход матрицу ```X``` и некоторое число ```a``` и возвращающую ближайший к числу элемент матрицы.\n",
        "\n",
        "Например, для ```X = np.arange(0,10).reshape((2, 5))``` и ```a = 3.6``` ответом будет 4."
      ]
    },
    {
      "cell_type": "code",
      "metadata": {
        "colab": {
          "base_uri": "https://localhost:8080/"
        },
        "id": "B914J41RKDJu",
        "outputId": "4dfd4835-e812-4a81-ef32-18ed67076f8b"
      },
      "source": [
        "def nearest_value(X, a):\n",
        "  print(np.argmin(np.abs(X-a)))\n",
        "  return np.argmin(np.abs(X-a))\n",
        "\n",
        "\n",
        "assert np.allclose (nearest_value(np.arange(0,1000).reshape((10, 10, 10)), -1), 0)\n",
        "assert np.allclose (nearest_value(np.arange(0,1000).reshape((10, 10, 10)), 160.5), 160)\n",
        "assert np.allclose (nearest_value(np.arange(0,1000).reshape((10, 10, 10)), 160.6), 161)\n",
        "assert np.allclose (nearest_value(np.arange(0,8000).reshape((20, 20, 20)), 64.4), 64)#my example\n",
        "assert np.allclose (nearest_value(np.arange(0,27).reshape((3, 3, 3)), 160.6), 26)#my example"
      ],
      "execution_count": 68,
      "outputs": [
        {
          "output_type": "stream",
          "text": [
            "0\n",
            "160\n",
            "161\n",
            "64\n",
            "26\n"
          ],
          "name": "stdout"
        }
      ]
    },
    {
      "cell_type": "markdown",
      "metadata": {
        "id": "l5and0nPKDJv"
      },
      "source": [
        "**(0.5 балла) Задача 5.** Реализуйте функцию, принимающую на вход два одномерных массива ```x``` и ```y``` и возвращающую матрицу, в которой первый массив соответствует первому столбцу матрицы, второй - второму.\n",
        "\n",
        "В этом задании **запрещается** пользоваться операцией транспонирования и рекомедуется воспользоваться методом [reshape](https://docs.scipy.org/doc/numpy-1.13.0/reference/generated/numpy.reshape.html)."
      ]
    },
    {
      "cell_type": "code",
      "metadata": {
        "colab": {
          "base_uri": "https://localhost:8080/"
        },
        "id": "4an2ySvmKDJv",
        "outputId": "6bfcba60-64b4-46f4-948b-4405cd6f9c31"
      },
      "source": [
        "def construct_matrix(x, y):\n",
        "    print(np.column_stack((x,y)))\n",
        "    return (np.column_stack((x,y)))\n",
        "\n",
        "    \n",
        "assert np.allclose (construct_matrix(np.arange(0, 6), np.arange(6, 12)), np.array([[0, 6], [1, 7], [2, 8], [3, 9], [4, 10], [5, 11]]))\n",
        "assert np.allclose (construct_matrix(np.arange(1, 8), np.arange(50, 57)), np.array([[ 1, 50],[ 2, 51],[ 3, 52],[ 4, 53],[ 5, 54],[ 6, 55],[7,56]]))#my example"
      ],
      "execution_count": 74,
      "outputs": [
        {
          "output_type": "stream",
          "text": [
            "[[ 0  6]\n",
            " [ 1  7]\n",
            " [ 2  8]\n",
            " [ 3  9]\n",
            " [ 4 10]\n",
            " [ 5 11]]\n",
            "[[ 1 50]\n",
            " [ 2 51]\n",
            " [ 3 52]\n",
            " [ 4 53]\n",
            " [ 5 54]\n",
            " [ 6 55]\n",
            " [ 7 56]]\n"
          ],
          "name": "stdout"
        }
      ]
    },
    {
      "cell_type": "markdown",
      "metadata": {
        "id": "tkwiokGNKDJv"
      },
      "source": [
        "**(0.5 балла) Задание 6.** Реализуйте функцию, которая на вход принимает вектор ```x```, содержащий целые числа, кроме 0, а возвращает вектор со вставленными нулями между числами.\n",
        "\n",
        "Например, из ```[1, -5, 3]``` получить ```[1, 0, -5, 0, 3]```"
      ]
    },
    {
      "cell_type": "code",
      "metadata": {
        "colab": {
          "base_uri": "https://localhost:8080/"
        },
        "id": "Gdw6L7bSKDJw",
        "outputId": "5731c2d8-797e-4489-f7a6-35805cc7378c"
      },
      "source": [
        "def add_zeros(x):\n",
        "    print(np.insert(x, range(1,len(x)),0))\n",
        "    return(np.insert(x, range(1,len(x)),0))   \n",
        "\n",
        "\n",
        "assert np.allclose (add_zeros(np.arange(1, 10)), np.array([1., 0., 2., 0., 3., 0., 4., 0., 5., 0., 6., 0., 7., 0., 8., 0., 9.]))\n",
        "assert np.allclose (add_zeros(np.array([1])), np.array([1]))\n",
        "assert np.allclose (add_zeros(np.array([])), np.array([]))\n",
        "assert np.allclose (add_zeros(np.array([1, 2, 3, 4])), np.array([1, 0, 2, 0, 3, 0, 4]))#my example"
      ],
      "execution_count": 73,
      "outputs": [
        {
          "output_type": "stream",
          "text": [
            "[1 0 2 0 3 0 4 0 5 0 6 0 7 0 8 0 9]\n",
            "[1]\n",
            "[]\n",
            "[1 0 2 0 3 0 4]\n"
          ],
          "name": "stdout"
        }
      ]
    },
    {
      "cell_type": "markdown",
      "metadata": {
        "id": "K0jJs4KjKDJw"
      },
      "source": [
        "**(0.75 балла) Задание 7.** Реализуйте функцию для подсчёта произведения ненулевых элементов на диагонали прямоугольной матрицы\n",
        "\n",
        "Например, для ```X = np.array([[1, 0, 1], [2, 0, 2], [3, 0, 3], [4, 4, 4]])``` ответом является 3. Если ненулевых элементов нет, функция должна возвращать ```None```."
      ]
    },
    {
      "cell_type": "code",
      "metadata": {
        "colab": {
          "base_uri": "https://localhost:8080/"
        },
        "id": "zUdiEY4ZKDJx",
        "outputId": "0bd1b4d9-b442-4183-e9fe-4ced8dd9d7fd"
      },
      "source": [
        "def nonzero_product(X):\n",
        "  if np.sum(np.diag(X)[np.diag(X) != 0])!=0 :\n",
        "    a=np.prod(np.diag(X)[np.diag(X) != 0])\n",
        "  else: \n",
        "      a=None\n",
        "  print(a)\n",
        "  return a\n",
        "\n",
        "\n",
        "assert np.allclose (nonzero_product(np.array([[3, 3, 3], [5, 5, 5], [7, 7, 0]])),15)\n",
        "assert nonzero_product(np.array([[0, 3, 3], [5, 0, 5], [7, 7, 0]])) == None\n",
        "assert nonzero_product(np.zeros((3,3))) == None #my example\n",
        "assert np.allclose (nonzero_product(4*np.ones((3,3))),64)#my example"
      ],
      "execution_count": 80,
      "outputs": [
        {
          "output_type": "stream",
          "text": [
            "15\n",
            "None\n",
            "None\n",
            "64.0\n"
          ],
          "name": "stdout"
        }
      ]
    },
    {
      "cell_type": "markdown",
      "metadata": {
        "id": "wy5OhXNxKDJy"
      },
      "source": [
        "**(0.75 балла) Задание 8.** Реализуйте функцию, возвращающую максимальный элемент в массиве ```X``` среди элементов, перед которыми стоит нулевой.\n",
        "\n",
        "Например, для ```X = np.array([6, 2, 0, 3, 0, 0, 5, 7, 0])``` ответом является 5. Если подходящих элементов нет, функция должна возвращать ```None```."
      ]
    },
    {
      "cell_type": "code",
      "metadata": {
        "colab": {
          "base_uri": "https://localhost:8080/"
        },
        "id": "wfoOtLmIKDJy",
        "outputId": "2082440d-4739-4f7c-c2e6-5f4bbd3895bf"
      },
      "source": [
        "def max_element(X):\n",
        "    Y=np.append(X[1: ], -1)\n",
        "    if np.prod(Y)!=0:\n",
        "      a=None\n",
        "\n",
        "    elif max(Y[X==0])==0:\n",
        "      a=None\n",
        "    else:\n",
        "      a=max(Y[X==0])\n",
        "    print(a)\n",
        "    return a\n",
        "\n",
        "\n",
        "assert max_element(np.array([1,2,3,4,5])) == None\n",
        "assert max_element(np.array([1,0,0,0,0])) == None\n",
        "assert np.allclose(max_element(np.array([1,0,3,2,0])), 3)\n",
        "assert max_element(np.array([1,2,0,0,0])) == None #my example\n",
        "assert np.allclose(max_element(np.array([2,3,0,4,0,3])),4)#my example\n",
        "assert np.allclose(max_element(np.array([1,2,0,3,0,4,0])),4) #my example"
      ],
      "execution_count": 81,
      "outputs": [
        {
          "output_type": "stream",
          "text": [
            "None\n",
            "None\n",
            "3\n",
            "None\n",
            "4\n",
            "4\n"
          ],
          "name": "stdout"
        }
      ]
    },
    {
      "cell_type": "markdown",
      "metadata": {
        "id": "Od9FRbvsKDJz"
      },
      "source": [
        "**(0.75 балла) Задание 9.** Реализуйте функцию, принимающую на вход матрицу ```X``` и возвращающую все её уникальные строки в виде матрицы."
      ]
    },
    {
      "cell_type": "code",
      "metadata": {
        "colab": {
          "base_uri": "https://localhost:8080/"
        },
        "id": "8gfNQgKWKDJz",
        "outputId": "bab04fcc-0fdf-45b0-a4ad-7f9c8cdd1a2a"
      },
      "source": [
        "def get_unique_rows(X):\n",
        "  print( np.unique(X,axis =0))\n",
        "  return np.unique(X,axis =0)\n",
        "\n",
        "\n",
        "assert np.allclose (get_unique_rows(np.array([[1, 2], [1, 9], [1, 2],[1, 9]])), np.array([[1, 2], [1, 9]]))\n",
        "assert np.allclose (get_unique_rows(np.zeros((10,10))), np.zeros(10))\n",
        "assert np.allclose (get_unique_rows(np.array([[0, 0, 0], [1, 1, 1], [1, 1, 1], [0, 0, 0]])), np.array([[0, 0, 0],[1, 1, 1]]))#my example"
      ],
      "execution_count": 83,
      "outputs": [
        {
          "output_type": "stream",
          "text": [
            "[[1 2]\n",
            " [1 9]]\n",
            "[[0. 0. 0. 0. 0. 0. 0. 0. 0. 0.]]\n",
            "[[0 0 0]\n",
            " [1 1 1]]\n"
          ],
          "name": "stdout"
        }
      ]
    },
    {
      "cell_type": "markdown",
      "metadata": {
        "id": "9j66b8HFKDJz"
      },
      "source": [
        "**(0.75 балла) Задача 10.** Реализуйте функцию, которая во входной вещественной матрице ```X``` находит все значения ```nan``` и заменяет их на среднее арифметическое всех остальных элементов. Если все элементы матрицы ```nan```, то верните нулевую матрицу той же размерности."
      ]
    },
    {
      "cell_type": "code",
      "metadata": {
        "colab": {
          "base_uri": "https://localhost:8080/"
        },
        "id": "aW64uLghKDJ0",
        "outputId": "ee9f05d4-9612-4642-8d52-ebb41f713ff4"
      },
      "source": [
        "def replace_nans(X):\n",
        "    if np.prod(np.isnan(X))==0:\n",
        "      c=np.nanmean(X)\n",
        "      a=np.nan_to_num(X, copy=True, nan=c, posinf=None, neginf=None)\n",
        "    else:\n",
        "      a=np.nan_to_num(X, copy=True, nan=0.0, posinf=None, neginf=None)\n",
        "    print(a)\n",
        "    return a\n",
        "\n",
        "\n",
        "assert np.allclose (replace_nans(np.array([np.nan, np.nan])), np.zeros(2))\n",
        "assert np.allclose (replace_nans(np.array([[2, np.nan], [np.nan, 3]])), np.array([[2., 2.5], [2.5, 3.]]))\n",
        "assert np.allclose (replace_nans(np.array([[2, 2], [3, 3]])), np.array([[2,2], [3,3]]))#my example( idk what can i add)"
      ],
      "execution_count": 85,
      "outputs": [
        {
          "output_type": "stream",
          "text": [
            "[0. 0.]\n",
            "[[2.  2.5]\n",
            " [2.5 3. ]]\n",
            "[[2 2]\n",
            " [3 3]]\n"
          ],
          "name": "stdout"
        }
      ]
    },
    {
      "cell_type": "markdown",
      "metadata": {
        "id": "ERnohdg4KDJ1"
      },
      "source": [
        "**(1 балл) Задача 11.** Напишите функцию, генерирующую [матрицу Вандермонда](https://ru.wikipedia.org/wiki/Определитель_Вандермонда), принимающую на вход вектор $(x_1, ... , x_n)$.\n",
        "\n",
        "В этом задании **запрещается** пользоваться готовыми реализациями (например, [numpy.vander](https://docs.scipy.org/doc/numpy-1.13.0/reference/generated/numpy.vander.html)), а также [np.repeat](https://docs.scipy.org/doc/numpy/reference/generated/numpy.repeat.html) и [np.transpose](https://docs.scipy.org/doc/numpy/reference/generated/numpy.transpose.html).\n",
        "\n",
        "При решении задействуйте [np.reshape](https://docs.scipy.org/doc/numpy/reference/generated/numpy.reshape.html) и/или [np.newaxis](https://docs.scipy.org/doc/numpy-1.13.0/reference/arrays.indexing.html)."
      ]
    },
    {
      "cell_type": "code",
      "metadata": {
        "colab": {
          "base_uri": "https://localhost:8080/"
        },
        "id": "_GwdSWfyKDJ1",
        "outputId": "86fda91c-43bf-4652-8d41-54f6763626b6"
      },
      "source": [
        "def vander(x):\n",
        "  if x.shape!=(0,):\n",
        "    a=np.flip(np.column_stack([x ** (len(x) - 1 - i) for i in range(len(x))]), axis=1)\n",
        "  else:\n",
        "    a=np.array([])\n",
        "  print(a)\n",
        "  return a\n",
        "\n",
        "\n",
        "assert np.allclose (np.vander(np.array([]), increasing=True), vander(np.array([])))\n",
        "assert np.allclose (np.vander(np.array([1, 2, 3, 5]), increasing=True), vander(np.array([1, 2, 3, 5])))\n",
        "assert np.allclose (np.vander(np.arange(1,7), increasing=True), vander(np.array([1, 2, 3,4,5,6])))#my example"
      ],
      "execution_count": 87,
      "outputs": [
        {
          "output_type": "stream",
          "text": [
            "[]\n",
            "[[  1   1   1   1]\n",
            " [  1   2   4   8]\n",
            " [  1   3   9  27]\n",
            " [  1   5  25 125]]\n",
            "[[   1    1    1    1    1    1]\n",
            " [   1    2    4    8   16   32]\n",
            " [   1    3    9   27   81  243]\n",
            " [   1    4   16   64  256 1024]\n",
            " [   1    5   25  125  625 3125]\n",
            " [   1    6   36  216 1296 7776]]\n"
          ],
          "name": "stdout"
        }
      ]
    },
    {
      "cell_type": "markdown",
      "metadata": {
        "id": "-aJGRHVrKDJ2"
      },
      "source": [
        "**(1 балл) Задача 12.** Даны две вещественные матрицы ```X``` и ```Y``` с одинаковым числом столбцов и, в общем случае, различным числом строк. Необходимо реализовать функцию, вычисляющую матрицу попарных [косинусных коэффициентов](https://en.wikipedia.org/wiki/Cosine_similarity) между всеми $X_i$ и $Y_j$, где $X_i$ - $i$-ая строка матрицы $X$, а $Y_j$ - $j$-ая строка матрицы $Y$. \n",
        "\n",
        "В этом задании **запрещается** пользоваться готовыми реализациями, а также [np.repeat](https://docs.scipy.org/doc/numpy/reference/generated/numpy.repeat.html) и [np.transpose](https://docs.scipy.org/doc/numpy/reference/generated/numpy.transpose.html).\n",
        "\n",
        "При решении задействуйте [np.reshape](https://docs.scipy.org/doc/numpy/reference/generated/numpy.reshape.html) и/или [np.newaxis](https://docs.scipy.org/doc/numpy-1.13.0/reference/arrays.indexing.html), [np.sqrt](https://docs.scipy.org/doc/numpy/reference/generated/numpy.sqrt.html), [np.sum](https://docs.scipy.org/doc/numpy/reference/generated/numpy.sum.html) и [np.power](https://docs.scipy.org/doc/numpy/reference/generated/numpy.power.html)."
      ]
    },
    {
      "cell_type": "code",
      "metadata": {
        "id": "kO1EN2dMKDJ2"
      },
      "source": [
        "def count_cosine_similarity(X, Y):\n",
        "    # Your code here\n",
        "\n",
        "\n",
        "assert np.allclose (count_cosine_similarity(np.array([[1, 2], [4, 8], [1, 2]]), np.array([[1, 2], [4, 2]])), np.array([[1, 0.8], [1, 0.8], [1, 0.8]]))\n",
        "assert np.allclose (count_cosine_similarity(np.ones((10, 5)), np.ones((3, 5))), np.ones((10, 3)))"
      ],
      "execution_count": null,
      "outputs": []
    }
  ]
}