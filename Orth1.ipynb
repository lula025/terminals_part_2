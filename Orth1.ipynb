{
  "nbformat": 4,
  "nbformat_minor": 0,
  "metadata": {
    "celltoolbar": "Create Assignment",
    "kernelspec": {
      "display_name": "Python 3",
      "language": "python",
      "name": "python3"
    },
    "language_info": {
      "codemirror_mode": {
        "name": "ipython",
        "version": 3
      },
      "file_extension": ".py",
      "mimetype": "text/x-python",
      "name": "python",
      "nbconvert_exporter": "python",
      "pygments_lexer": "ipython3",
      "version": "3.7.6"
    },
    "toc": {
      "base_numbering": 1,
      "nav_menu": {},
      "number_sections": true,
      "sideBar": true,
      "skip_h1_title": false,
      "title_cell": "Table of Contents",
      "title_sidebar": "Contents",
      "toc_cell": false,
      "toc_position": {},
      "toc_section_display": true,
      "toc_window_display": false
    },
    "colab": {
      "name": "Orth1.ipynb",
      "provenance": [],
      "collapsed_sections": []
    }
  },
  "cells": [
    {
      "cell_type": "markdown",
      "metadata": {
        "id": "l9w-rhHL0DET"
      },
      "source": [
        "# Задание по лекциям 1.\n",
        "\n",
        "- Не нужно использовать эффективные вычислительные алгоритмы. Нужно использовать те алгоритмы, что были представлены на лекции или практических занятиях. \n",
        "- Остальное как обычно: за \"похожие\" решения всем задействованным 0 баллов; если используете решение из открытого источника — обязательно вставьте ссылку; не удаляйте формулировки; не выкладывайте в открытый источник.\n",
        "- Можно использовать `numpy.array` для матриц и матричной арифметики и `numpy.linalg` для подсчёта ранга и определителя, для вычисления обратной матрицы, решения СЛУ и т.п. То есть то, что вы уже реализовывали в прошлом семестре, ещё раз реализовывать необязательно. Более того, можно использовать в любом из *заданий по лекциям* функции, реализованные ранее в других *заданиях по лекциям*. Если возникнут сомнения, можно ли использовать ту или иную функцию — лучше сразу поинтересуйтесь у меня."
      ]
    },
    {
      "cell_type": "markdown",
      "metadata": {
        "id": "JZqLkXEE0DEX"
      },
      "source": [
        "$\\mathbb{R}^n$ — вещественнозначное пространство вектор-**столбцов**."
      ]
    },
    {
      "cell_type": "markdown",
      "metadata": {
        "id": "5eP8U1_w0DEY"
      },
      "source": [
        "**(1 балл) Задание 1.** Реализовать функцию, принимающую на вход два набора \n",
        "$$\n",
        "u = (u_1, \\ldots, u_n),\\ v = (v_1,\\ldots,v_n)\n",
        "$$\n",
        "координат векторов (в стандартном базисе) из пространства $\\mathbb{R}^n$, и выдающую \n",
        "- матрицу перехода от базиса $u$ к базису $v$, если оба этих набора являются базисами;\n",
        "- None, иначе (альтернативный вариант — кидать исключение)."
      ]
    },
    {
      "cell_type": "code",
      "metadata": {
        "id": "YcomGHIB18vR"
      },
      "source": [
        "import numpy as np\n",
        "import scipy.linalg as sla\n",
        "from numpy import linalg as la\n",
        "import math\n",
        "from math import fabs"
      ],
      "execution_count": 26,
      "outputs": []
    },
    {
      "cell_type": "code",
      "metadata": {
        "id": "qbZBSQ250DEY"
      },
      "source": [
        "def trans_matrix(base_u,base_v):\n",
        "  if sla.det(base_u)==0 or sla.det(base_v)==0:\n",
        "    return None\n",
        "  else:\n",
        "    A = base_v@sla.inv(base_u)\n",
        "    return A\n",
        "\n",
        "base_u = np.array([[1,2,-1],[-1,-4,2],[5,1,0]]).reshape((3,3)).T\n",
        "base_v = np.array([[1,0,0],[0,1,0],[0,0,1]]).reshape((3,3))\n",
        "b= trans_matrix(base_u,base_v)\n",
        "sla.inv(b)==trans_matrix(base_v,base_u)# зная свойство матрицы перехода, что матрица, обратная матрице перехода, равно матрице перехода в другую \n",
        "#сторону, проверим работу функции\n",
        "base_u1 = np.array([[1,2,-1],[1,2,-1],[5,1,0]]).reshape((3,3)).T\n",
        "trans_matrix(base_u1,base_v)# тут она ничего не вернула потому что base_u1 линейно зависим(не базис)"
      ],
      "execution_count": 23,
      "outputs": []
    },
    {
      "cell_type": "markdown",
      "metadata": {
        "id": "ZkTlwtTv0DEZ"
      },
      "source": [
        "**(1 балл) Задание 2.** Реализовать функцию, принимающую на вход матрицу $A$ линейного оператора $\\varphi: \\mathbb{R}^n \\to \\mathbb{R}^n$ (в стандартном базисе) и набор координат $u = (u_1,\\ldots,u_n)$ вектор-столбцов, и выдающую \n",
        "- матрицу оператора $\\varphi$ в базисе $u$, если $u$ является базисом;\n",
        "- None, иначе (альтернативный вариант — кидать исключение)."
      ]
    },
    {
      "cell_type": "code",
      "metadata": {
        "colab": {
          "base_uri": "https://localhost:8080/"
        },
        "id": "Ja2areUn0DEZ",
        "outputId": "48e93380-8542-46de-d9a7-cf099ec38354"
      },
      "source": [
        "def operator(A,base_u):\n",
        "  if sla.det(base_u)==0:\n",
        "    return None\n",
        "  else:\n",
        "    phi = sla.inv(base_u)@A@base_u#по теореме о переходе матрицы линейного преобразования из одного базиса в другой, с учетом, что базис стандартный\n",
        "    return phi\n",
        "\n",
        "base_u = np.array([[2,3,1],[3,4,1],[1,2,2]]).reshape((3,3)).T\n",
        "A = np.array([[15,-11,5],[20,-15,8],[8,-7,6]]).reshape((3,3))\n",
        "operator(A,base_u)# хромает точность, но я посмотрела, что машинный эпислон тут примерно покрывает косяки, поэтому здесь точность теряется\n",
        "#уже на 14-15 знаке после запятой, поэтому все, что в степени меньше -13 это 0.\n"
      ],
      "execution_count": 22,
      "outputs": [
        {
          "output_type": "stream",
          "text": [
            "2.842170943040401e-14\n"
          ],
          "name": "stdout"
        },
        {
          "output_type": "execute_result",
          "data": {
            "text/plain": [
              "array([[1.00000000e+00, 2.84217094e-14, 1.42108547e-14],\n",
              "       [4.44089210e-16, 2.00000000e+00, 2.66453526e-15],\n",
              "       [1.33226763e-15, 1.77635684e-15, 3.00000000e+00]])"
            ]
          },
          "metadata": {
            "tags": []
          },
          "execution_count": 22
        }
      ]
    },
    {
      "cell_type": "markdown",
      "metadata": {
        "id": "NUJzyH6V0DEa"
      },
      "source": [
        "**(1.5 балла) Задание 3.** Реализовать функции, которые по данной матрице $A$ линейного оператора $\\varphi: \\mathbb{R}^n \\to \\mathbb{R}^n$ в стандартном базисе, выдадут:\n",
        "\n",
        "- базис образа $\\varphi$ (0.5 балла)\n",
        "- базис ядра $\\varphi$ (0.75 балла)\n",
        "- размерности ядра и образа $\\varphi$ (0.25 балла)"
      ]
    },
    {
      "cell_type": "code",
      "metadata": {
        "colab": {
          "base_uri": "https://localhost:8080/"
        },
        "id": "mLPyq9fJ0DEa",
        "outputId": "57db87d4-5e81-4957-be56-85b10df550fc"
      },
      "source": [
        "def core_n_im_n_dim(A):\n",
        "  b=np.zeros((len(A)))\n",
        "  rank_im=la.matrix_rank(A)\n",
        "  rank_core=len(A)-rank_im\n",
        "  if rank_core == 0:\n",
        "    im_solv= sla.solve(A,b)\n",
        "    return im_solv,0,rank_im,0\n",
        "  else:\n",
        "    my_num=la.eigvals(A)\n",
        "    num=0\n",
        "    for i in range(0,len(my_num)):\n",
        "      if fabs(my_num[i])>1.e-15:\n",
        "        num+=1\n",
        "    U, S, V= sla.svd(A)\n",
        "    im_solv= U[:,:num].T\n",
        "    core_solv=V[num:,:]\n",
        "    return im_solv, core_solv,rank_im,rank_core\n",
        "# ну в общем на лекциях не был рассказан алгоритм по поиску этих базисов, поэтому я нашла в интернете то,\n",
        "# почему представленнный выше алгоритм верный, сама я в этом разобралась ниже ссылка на что я опиралась\n",
        "# https://math.stackexchange.com/questions/1771013/how-is-the-null-space-related-to-singular-value-decomposition\n",
        "\n",
        "A=np.array([[1,2,1],[2,4,2],[1,3,0]])\n",
        "\n",
        "im_solv, core_solv,rank_im,rank_core=core_n_im_n_dim(A)\n",
        "print(\"Базис образа: \", im_solv,\"\\nБазис ядра: \", core_solv,\"\\nРазмерность образа = \",rank_im,\"\\nРазмерность ядра = \",rank_core)"
      ],
      "execution_count": 35,
      "outputs": [
        {
          "output_type": "stream",
          "text": [
            "Базис образа:  [[-0.39222212 -0.78444424 -0.4804259 ]\n",
            " [-0.214853   -0.42970599  0.87703532]] \n",
            "Базис ядра:  [[ 0.90453403 -0.30151134 -0.30151134]] \n",
            "Размерность образа =  2 \n",
            "Размерность ядра =  1\n"
          ],
          "name": "stdout"
        }
      ]
    },
    {
      "cell_type": "markdown",
      "metadata": {
        "id": "XV7TvOIy0DEa"
      },
      "source": [
        "**(1 балл) Задание 4.** Реализовать функцию, принимающую на вход матрицу $A$ линейного оператора $\\varphi: \\mathbb{R}^n \\to \\mathbb{R}^n$ (в стандартном базисе) и набор координат $u = (u_1,\\ldots,u_k),\\ k\\le n$ вектор-столбцов, и выдающую \n",
        "- True, если линейная оболочка векторов $(u_1,\\ldots, u_k)$ является $\\varphi$-инвариантным подпространством.\n",
        "- False, иначе."
      ]
    },
    {
      "cell_type": "code",
      "metadata": {
        "id": "KRZ5VLTu0DEb"
      },
      "source": [
        "def true_inv(A,u):\n",
        "  rank_u= la.matrix_rank(u)\n",
        "  new_u=np.column_stack((u,u@A))\n",
        "  rank_new_u= la.matrix_rank(new_u)\n",
        "  if rank_u==rank_new_u:\n",
        "    return True\n",
        "  else:\n",
        "    return False\n",
        "    "
      ],
      "execution_count": null,
      "outputs": []
    }
  ]
}